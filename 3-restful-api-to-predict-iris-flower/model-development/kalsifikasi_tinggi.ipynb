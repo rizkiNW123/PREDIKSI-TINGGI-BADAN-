{
  "cells": [
    {
      "cell_type": "markdown",
      "metadata": {
        "id": "SQthVGdg3CbR"
      },
      "source": [
        "# Klasifikasi Tinggi\n"
      ]
    },
    {
      "cell_type": "code",
      "execution_count": 10,
      "metadata": {
        "id": "3l21vjalxaDE"
      },
      "outputs": [],
      "source": [
        "import pandas as pd\n",
        "import numpy as np\n",
        "from sklearn.linear_model import LogisticRegression\n",
        "from sklearn.model_selection import train_test_split\n",
        "from sklearn.preprocessing import LabelEncoder, StandardScaler\n",
        "import joblib"
      ]
    },
    {
      "cell_type": "code",
      "execution_count": 11,
      "metadata": {
        "id": "3v7_bqI0xkIH"
      },
      "outputs": [],
      "source": [
        "df = pd.read_excel(\"datasets/weight-height.xlsx\")"
      ]
    },
    {
      "cell_type": "code",
      "execution_count": 12,
      "metadata": {
        "colab": {
          "base_uri": "https://localhost:8080/",
          "height": 206
        },
        "id": "xAziRWosyF3u",
        "outputId": "7d7a726f-e365-4624-c754-32ca7c53af5e"
      },
      "outputs": [
        {
          "data": {
            "text/html": [
              "<div>\n",
              "<style scoped>\n",
              "    .dataframe tbody tr th:only-of-type {\n",
              "        vertical-align: middle;\n",
              "    }\n",
              "\n",
              "    .dataframe tbody tr th {\n",
              "        vertical-align: top;\n",
              "    }\n",
              "\n",
              "    .dataframe thead th {\n",
              "        text-align: right;\n",
              "    }\n",
              "</style>\n",
              "<table border=\"1\" class=\"dataframe\">\n",
              "  <thead>\n",
              "    <tr style=\"text-align: right;\">\n",
              "      <th></th>\n",
              "      <th>Gender</th>\n",
              "      <th>Height</th>\n",
              "      <th>Weight</th>\n",
              "    </tr>\n",
              "  </thead>\n",
              "  <tbody>\n",
              "    <tr>\n",
              "      <th>0</th>\n",
              "      <td>Male</td>\n",
              "      <td>73847017017515</td>\n",
              "      <td>241893563180437</td>\n",
              "    </tr>\n",
              "    <tr>\n",
              "      <th>1</th>\n",
              "      <td>Male</td>\n",
              "      <td>687819040458903</td>\n",
              "      <td>162310472521300</td>\n",
              "    </tr>\n",
              "    <tr>\n",
              "      <th>2</th>\n",
              "      <td>Male</td>\n",
              "      <td>741101053917849</td>\n",
              "      <td>2127408555565</td>\n",
              "    </tr>\n",
              "    <tr>\n",
              "      <th>3</th>\n",
              "      <td>Male</td>\n",
              "      <td>717309784033377</td>\n",
              "      <td>220042470303077</td>\n",
              "    </tr>\n",
              "    <tr>\n",
              "      <th>4</th>\n",
              "      <td>Male</td>\n",
              "      <td>698817958611153</td>\n",
              "      <td>206349800623871</td>\n",
              "    </tr>\n",
              "  </tbody>\n",
              "</table>\n",
              "</div>"
            ],
            "text/plain": [
              "  Gender           Height           Weight\n",
              "0   Male   73847017017515  241893563180437\n",
              "1   Male  687819040458903  162310472521300\n",
              "2   Male  741101053917849    2127408555565\n",
              "3   Male  717309784033377  220042470303077\n",
              "4   Male  698817958611153  206349800623871"
            ]
          },
          "execution_count": 12,
          "metadata": {},
          "output_type": "execute_result"
        }
      ],
      "source": [
        "df.head()"
      ]
    },
    {
      "cell_type": "code",
      "execution_count": 13,
      "metadata": {
        "colab": {
          "base_uri": "https://localhost:8080/"
        },
        "id": "Sse-YpMgyIp1",
        "outputId": "66aa0280-6173-4212-96f9-601510e9545d"
      },
      "outputs": [
        {
          "data": {
            "text/plain": [
              "(10000, 3)"
            ]
          },
          "execution_count": 13,
          "metadata": {},
          "output_type": "execute_result"
        }
      ],
      "source": [
        "df.shape"
      ]
    },
    {
      "cell_type": "code",
      "execution_count": 14,
      "metadata": {
        "colab": {
          "base_uri": "https://localhost:8080/"
        },
        "id": "L7Thnq0n07Q4",
        "outputId": "35991408-587f-43a0-b93a-4991705c7648"
      },
      "outputs": [
        {
          "name": "stdout",
          "output_type": "stream",
          "text": [
            "<class 'pandas.core.frame.DataFrame'>\n",
            "RangeIndex: 10000 entries, 0 to 9999\n",
            "Data columns (total 3 columns):\n",
            " #   Column  Non-Null Count  Dtype \n",
            "---  ------  --------------  ----- \n",
            " 0   Gender  10000 non-null  object\n",
            " 1   Height  10000 non-null  int64 \n",
            " 2   Weight  10000 non-null  int64 \n",
            "dtypes: int64(2), object(1)\n",
            "memory usage: 234.5+ KB\n"
          ]
        }
      ],
      "source": [
        "df.info()"
      ]
    },
    {
      "cell_type": "code",
      "execution_count": 15,
      "metadata": {
        "id": "AhGfQx1gBCXw"
      },
      "outputs": [
        {
          "name": "stdout",
          "output_type": "stream",
          "text": [
            "Gender\n"
          ]
        }
      ],
      "source": [
        "'''\n",
        "Encode target labels with value between 0 and n_classes-1\n",
        "https://scikit-learn.org/stable/modules/generated/sklearn.preprocessing.LabelEncoder.html\n",
        "'''\n",
        "from sklearn.preprocessing import LabelEncoder\n",
        "\n",
        "for f in df.columns:\n",
        "    if df[f].dtype == 'object':\n",
        "        print (f)\n",
        "\n",
        "        lbl = LabelEncoder()\n",
        "        lbl.fit(list(df[f].values))\n",
        "\n",
        "        df[f] = lbl.transform(list(df[f].values))\n",
        "\n"
      ]
    },
    {
      "cell_type": "code",
      "execution_count": 16,
      "metadata": {
        "id": "wWsEbKmO5glG"
      },
      "outputs": [],
      "source": [
        "std_scaler = StandardScaler()\n",
        "label_enc = LabelEncoder()\n",
        "\n",
        "X = df.iloc[:, :-1] = std_scaler.fit_transform(df.iloc[:, :-1])\n",
        "y = df.Weight = label_enc.fit_transform(df.Weight)"
      ]
    },
    {
      "cell_type": "code",
      "execution_count": 17,
      "metadata": {
        "id": "lOh8BeSo4KNA"
      },
      "outputs": [],
      "source": [
        "from sklearn.linear_model import LinearRegression\n",
        "from sklearn.model_selection import train_test_split\n",
        "regressor = LinearRegression()\n",
        "X_train, X_test, y_train, y_test = train_test_split(X, y,random_state=9, train_size=0.5)\n",
        "model = regressor.fit(X_train, y_train)\n",
        "\n"
      ]
    },
    {
      "cell_type": "code",
      "execution_count": 18,
      "metadata": {
        "colab": {
          "base_uri": "https://localhost:8080/"
        },
        "id": "VGC11hrtudkx",
        "outputId": "17f56267-7e5c-4793-8745-971366d7cf3e"
      },
      "outputs": [
        {
          "name": "stdout",
          "output_type": "stream",
          "text": [
            "Akurasi Model: 51.52005228726249%\n"
          ]
        }
      ],
      "source": [
        "accuracy = model.score(X_test, y_test)\n",
        "print(f\"Akurasi Model: {accuracy * 100}%\")"
      ]
    },
    {
      "cell_type": "code",
      "execution_count": 19,
      "metadata": {},
      "outputs": [],
      "source": [
        "import joblib\n",
        "import sklearn.externals"
      ]
    },
    {
      "cell_type": "code",
      "execution_count": 24,
      "metadata": {
        "colab": {
          "base_uri": "https://localhost:8080/"
        },
        "id": "CFU1RQRkvGaz",
        "outputId": "3a26bc1e-edd7-4dbe-e69d-a54ab0d480d5"
      },
      "outputs": [
        {
          "ename": "FileNotFoundError",
          "evalue": "[Errno 2] No such file or directory: 'iris-classification-using-logistic-regression.pkl'",
          "output_type": "error",
          "traceback": [
            "\u001b[1;31m---------------------------------------------------------------------------\u001b[0m",
            "\u001b[1;31mFileNotFoundError\u001b[0m                         Traceback (most recent call last)",
            "\u001b[1;32mc:\\Users\\Rizky\\Documents\\klasifikasi tinggi\\3-restful-api-to-predict-iris-flower\\model-development\\kalsifikasi_tinggi.ipynb Cell 12'\u001b[0m in \u001b[0;36m<module>\u001b[1;34m\u001b[0m\n\u001b[1;32m----> <a href='vscode-notebook-cell:/c%3A/Users/Rizky/Documents/klasifikasi%20tinggi/3-restful-api-to-predict-iris-flower/model-development/kalsifikasi_tinggi.ipynb#ch0000010?line=0'>1</a>\u001b[0m joblib\u001b[39m.\u001b[39;49mdump((model, std_scaler), \u001b[39m\"\u001b[39;49m\u001b[39miris-classification-using-logistic-regression.pkl\u001b[39;49m\u001b[39m\"\u001b[39;49m)\n",
            "File \u001b[1;32m~\\AppData\\Local\\Programs\\Python\\Python310\\lib\\site-packages\\joblib\\numpy_pickle.py:481\u001b[0m, in \u001b[0;36mdump\u001b[1;34m(value, filename, compress, protocol, cache_size)\u001b[0m\n\u001b[0;32m    <a href='file:///c%3A/Users/Rizky/AppData/Local/Programs/Python/Python310/lib/site-packages/joblib/numpy_pickle.py?line=478'>479</a>\u001b[0m         NumpyPickler(f, protocol\u001b[39m=\u001b[39mprotocol)\u001b[39m.\u001b[39mdump(value)\n\u001b[0;32m    <a href='file:///c%3A/Users/Rizky/AppData/Local/Programs/Python/Python310/lib/site-packages/joblib/numpy_pickle.py?line=479'>480</a>\u001b[0m \u001b[39melif\u001b[39;00m is_filename:\n\u001b[1;32m--> <a href='file:///c%3A/Users/Rizky/AppData/Local/Programs/Python/Python310/lib/site-packages/joblib/numpy_pickle.py?line=480'>481</a>\u001b[0m     \u001b[39mwith\u001b[39;00m \u001b[39mopen\u001b[39;49m(filename, \u001b[39m'\u001b[39;49m\u001b[39mwb\u001b[39;49m\u001b[39m'\u001b[39;49m) \u001b[39mas\u001b[39;00m f:\n\u001b[0;32m    <a href='file:///c%3A/Users/Rizky/AppData/Local/Programs/Python/Python310/lib/site-packages/joblib/numpy_pickle.py?line=481'>482</a>\u001b[0m         NumpyPickler(f, protocol\u001b[39m=\u001b[39mprotocol)\u001b[39m.\u001b[39mdump(value)\n\u001b[0;32m    <a href='file:///c%3A/Users/Rizky/AppData/Local/Programs/Python/Python310/lib/site-packages/joblib/numpy_pickle.py?line=482'>483</a>\u001b[0m \u001b[39melse\u001b[39;00m:\n",
            "\u001b[1;31mFileNotFoundError\u001b[0m: [Errno 2] No such file or directory: 'iris-classification-using-logistic-regression.pkl'"
          ]
        }
      ],
      "source": [
        "joblib.dump((model, std_scaler), \"iris-classification-using-logistic-regression.pkl\")"
      ]
    },
    {
      "cell_type": "code",
      "execution_count": null,
      "metadata": {},
      "outputs": [],
      "source": []
    }
  ],
  "metadata": {
    "colab": {
      "name": "kalsifikasi tinggi.ipynb",
      "provenance": []
    },
    "interpreter": {
      "hash": "2141ddae93ce2242f636aae004238769df17c44c2e373e46294c11a7a03087f4"
    },
    "kernelspec": {
      "display_name": "myflask",
      "language": "python",
      "name": "myflask"
    },
    "language_info": {
      "codemirror_mode": {
        "name": "ipython",
        "version": 3
      },
      "file_extension": ".py",
      "mimetype": "text/x-python",
      "name": "python",
      "nbconvert_exporter": "python",
      "pygments_lexer": "ipython3",
      "version": "3.10.1"
    }
  },
  "nbformat": 4,
  "nbformat_minor": 0
}
